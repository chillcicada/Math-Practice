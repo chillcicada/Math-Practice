{
 "cells": [
  {
   "cell_type": "raw",
   "metadata": {},
   "source": [
    "---\n",
    "title: \"Chapter 2-1\"\n",
    "format: pdf\n",
    "jupyter: python3\n",
    "---"
   ]
  },
  {
   "cell_type": "code",
   "execution_count": 15,
   "metadata": {
    "ExecuteTime": {
     "end_time": "2024-04-02T13:20:15.059683Z",
     "start_time": "2024-04-02T13:20:14.764040Z"
    }
   },
   "outputs": [],
   "source": [
    "import numpy as np\n",
    "from matplotlib import pyplot as plt\n",
    "from utils.matrix import Jacobi, GaussSeidel  # Jacobi 方法和 GaussSeidel 方法定义于此"
   ]
  },
  {
   "cell_type": "code",
   "execution_count": 2,
   "metadata": {
    "ExecuteTime": {
     "end_time": "2024-04-02T13:08:56.795542Z",
     "start_time": "2024-04-02T13:08:56.788222Z"
    }
   },
   "outputs": [],
   "source": [
    "n = 20\n",
    "A = np.array(\n",
    "  [\n",
    "    [3, -0.5, -0.25, 0, 0, 0, 0, 0, 0, 0, 0, 0, 0, 0, 0, 0, 0, 0, 0, 0],\n",
    "    [-0.5, 3, -0.5, -0.25, 0, 0, 0, 0, 0, 0, 0, 0, 0, 0, 0, 0, 0, 0, 0, 0],\n",
    "    [-0.25, -0.5, 3, -0.5, -0.25, 0, 0, 0, 0, 0, 0, 0, 0, 0, 0, 0, 0, 0, 0, 0],\n",
    "    [0, -0.25, -0.5, 3, -0.5, -0.25, 0, 0, 0, 0, 0, 0, 0, 0, 0, 0, 0, 0, 0, 0],\n",
    "    [0, 0, -0.25, -0.5, 3, -0.5, -0.25, 0, 0, 0, 0, 0, 0, 0, 0, 0, 0, 0, 0, 0],\n",
    "    [0, 0, 0, -0.25, -0.5, 3, -0.5, -0.25, 0, 0, 0, 0, 0, 0, 0, 0, 0, 0, 0, 0],\n",
    "    [0, 0, 0, 0, -0.25, -0.5, 3, -0.5, -0.25, 0, 0, 0, 0, 0, 0, 0, 0, 0, 0, 0],\n",
    "    [0, 0, 0, 0, 0, -0.25, -0.5, 3, -0.5, -0.25, 0, 0, 0, 0, 0, 0, 0, 0, 0, 0],\n",
    "    [0, 0, 0, 0, 0, 0, -0.25, -0.5, 3, -0.5, -0.25, 0, 0, 0, 0, 0, 0, 0, 0, 0],\n",
    "    [0, 0, 0, 0, 0, 0, 0, -0.25, -0.5, 3, -0.5, -0.25, 0, 0, 0, 0, 0, 0, 0, 0],\n",
    "    [0, 0, 0, 0, 0, 0, 0, 0, -0.25, -0.5, 3, -0.5, -0.25, 0, 0, 0, 0, 0, 0, 0],\n",
    "    [0, 0, 0, 0, 0, 0, 0, 0, 0, -0.25, -0.5, 3, -0.5, -0.25, 0, 0, 0, 0, 0, 0],\n",
    "    [0, 0, 0, 0, 0, 0, 0, 0, 0, 0, -0.25, -0.5, 3, -0.5, -0.25, 0, 0, 0, 0, 0],\n",
    "    [0, 0, 0, 0, 0, 0, 0, 0, 0, 0, 0, -0.25, -0.5, 3, -0.5, -0.25, 0, 0, 0, 0],\n",
    "    [0, 0, 0, 0, 0, 0, 0, 0, 0, 0, 0, 0, -0.25, -0.5, 3, -0.5, -0.25, 0, 0, 0],\n",
    "    [0, 0, 0, 0, 0, 0, 0, 0, 0, 0, 0, 0, 0, -0.25, -0.5, 3, -0.5, -0.25, 0, 0],\n",
    "    [0, 0, 0, 0, 0, 0, 0, 0, 0, 0, 0, 0, 0, 0, -0.25, -0.5, 3, -0.5, -0.25, 0],\n",
    "    [0, 0, 0, 0, 0, 0, 0, 0, 0, 0, 0, 0, 0, 0, 0, -0.25, -0.5, 3, -0.5, -0.25],\n",
    "    [0, 0, 0, 0, 0, 0, 0, 0, 0, 0, 0, 0, 0, 0, 0, 0, -0.25, -0.5, 3, -0.5],\n",
    "    [0, 0, 0, 0, 0, 0, 0, 0, 0, 0, 0, 0, 0, 0, 0, 0, 0, -0.25, -0.5, 3],\n",
    "  ]\n",
    ")"
   ]
  },
  {
   "cell_type": "code",
   "execution_count": 13,
   "metadata": {
    "ExecuteTime": {
     "end_time": "2024-04-02T13:13:35.086701Z",
     "start_time": "2024-04-02T13:13:35.081205Z"
    }
   },
   "outputs": [
    {
     "name": "stdout",
     "output_type": "stream",
     "text": [
      "x0: [0.52055487 0.18292911 0.31621548 0.8412686  0.77283947 0.15505008\n",
      " 0.97109323 0.45502994 0.47413762 0.01059956 0.27169415 0.52887051\n",
      " 0.45129226 0.83285506 0.93672975 0.8623739  0.74445269 0.27184821\n",
      " 0.45716153 0.64042998]\n",
      "b: [0.09269343 0.85467665 0.46911958 0.21992672 0.59341533 0.79063281\n",
      " 0.33386198 0.3983102  0.00578689 0.40824872 0.27852473 0.40361693\n",
      " 0.85055647 0.62479593 0.47052933 0.97237614 0.12031572 0.4378238\n",
      " 0.5321111  0.59995246]\n",
      "Function Jacobi executed in 0.0010404586791992188 seconds\n",
      "[0.22514478 0.17844446 0.26262705 0.43407013 0.43648411 0.26709455\n",
      " 0.48148824 0.31491178 0.29298082 0.14278014 0.22233812 0.32540435\n",
      " 0.35192149 0.49806142 0.54861    0.51884065 0.45066721 0.27996898\n",
      " 0.28396028 0.2841343 ] 15\n",
      "Function GaussSeidel executed in 0.0 seconds\n",
      "[0.22514492 0.17844451 0.26262696 0.43406987 0.43648369 0.26709399\n",
      " 0.48148754 0.31491096 0.29297988 0.14277907 0.22233693 0.32540309\n",
      " 0.35192019 0.49806012 0.54860876 0.51883951 0.45066623 0.27996819\n",
      " 0.28395972 0.28413396] 10\n"
     ]
    }
   ],
   "source": [
    "# question 1\n",
    "x0 = np.random.rand(n)\n",
    "print('x0:', x0)\n",
    "b = np.random.rand(n)\n",
    "print('b:', b)\n",
    "\n",
    "# Jacobi\n",
    "x, iter_times = Jacobi(A, b, x0, 1e-5)\n",
    "print(x, iter_times)\n",
    "\n",
    "# Gauss-Seidel\n",
    "x, iter_times = GaussSeidel(A, b, x0, 1e-5)\n",
    "print(x, iter_times)"
   ]
  },
  {
   "cell_type": "markdown",
   "metadata": {},
   "source": [
    "```{=typst}\n",
    "随机测试中收敛性较好，几乎都收敛，同时收敛速度也较快，GaussSeidel 方法的迭代次数小于 Jacobi 方法，收敛速度上 GaussSeidel 方法更好，迭代时间更短。\n",
    "```"
   ]
  },
  {
   "cell_type": "code",
   "execution_count": 16,
   "metadata": {
    "ExecuteTime": {
     "end_time": "2024-04-02T13:20:18.686046Z",
     "start_time": "2024-04-02T13:20:18.588470Z"
    }
   },
   "outputs": [
    {
     "name": "stdout",
     "output_type": "stream",
     "text": [
      "Function Jacobi executed in 0.0010979175567626953 seconds\n",
      "Function Jacobi executed in 0.0 seconds\n",
      "Function Jacobi executed in 0.0 seconds\n",
      "Function Jacobi executed in 0.0010361671447753906 seconds\n",
      "Function Jacobi executed in 0.0 seconds\n",
      "Function Jacobi executed in 0.0011639595031738281 seconds\n",
      "Function Jacobi executed in 0.0 seconds\n",
      "Function Jacobi executed in 0.0 seconds\n",
      "Function Jacobi executed in 0.0 seconds\n",
      "Function Jacobi executed in 0.0 seconds\n",
      "Function Jacobi executed in 0.0010197162628173828 seconds\n",
      "Function Jacobi executed in 0.0 seconds\n",
      "Function Jacobi executed in 0.0 seconds\n",
      "Function Jacobi executed in 0.0 seconds\n",
      "Function Jacobi executed in 0.0 seconds\n",
      "Function Jacobi executed in 0.0 seconds\n",
      "Function Jacobi executed in 0.0010328292846679688 seconds\n",
      "Function Jacobi executed in 0.0 seconds\n",
      "Function Jacobi executed in 0.0 seconds\n",
      "Function Jacobi executed in 0.0 seconds\n",
      "Function Jacobi executed in 0.0 seconds\n",
      "Function Jacobi executed in 0.0 seconds\n",
      "Function Jacobi executed in 0.0010347366333007812 seconds\n",
      "Function Jacobi executed in 0.0 seconds\n",
      "Function Jacobi executed in 0.0 seconds\n",
      "Function Jacobi executed in 0.0 seconds\n",
      "Function Jacobi executed in 0.0 seconds\n",
      "Function Jacobi executed in 0.0 seconds\n",
      "Function Jacobi executed in 0.0010306835174560547 seconds\n",
      "Function Jacobi executed in 0.0 seconds\n",
      "Function Jacobi executed in 0.0 seconds\n",
      "Function Jacobi executed in 0.0 seconds\n",
      "Function Jacobi executed in 0.0 seconds\n",
      "Function Jacobi executed in 0.0 seconds\n",
      "Function Jacobi executed in 0.0010383129119873047 seconds\n",
      "Function Jacobi executed in 0.0 seconds\n",
      "Function Jacobi executed in 0.0 seconds\n",
      "Function Jacobi executed in 0.0 seconds\n",
      "Function Jacobi executed in 0.0 seconds\n",
      "Function Jacobi executed in 0.0 seconds\n",
      "Function Jacobi executed in 0.0 seconds\n",
      "Function Jacobi executed in 0.0010347366333007812 seconds\n",
      "Function Jacobi executed in 0.0 seconds\n",
      "Function Jacobi executed in 0.0 seconds\n",
      "Function Jacobi executed in 0.0 seconds\n",
      "Function Jacobi executed in 0.0 seconds\n",
      "Function Jacobi executed in 0.0 seconds\n",
      "Function Jacobi executed in 0.0 seconds\n",
      "Function Jacobi executed in 0.0010335445404052734 seconds\n",
      "Function Jacobi executed in 0.0 seconds\n",
      "Function Jacobi executed in 0.0 seconds\n",
      "Function Jacobi executed in 0.0 seconds\n",
      "Function Jacobi executed in 0.0 seconds\n",
      "Function Jacobi executed in 0.0 seconds\n",
      "Function Jacobi executed in 0.0 seconds\n",
      "Function Jacobi executed in 0.0 seconds\n",
      "Function Jacobi executed in 0.0010273456573486328 seconds\n",
      "Function Jacobi executed in 0.0 seconds\n",
      "Function Jacobi executed in 0.0 seconds\n",
      "Function Jacobi executed in 0.0 seconds\n",
      "Function Jacobi executed in 0.0 seconds\n",
      "Function Jacobi executed in 0.0 seconds\n",
      "Function Jacobi executed in 0.0 seconds\n",
      "Function Jacobi executed in 0.0010268688201904297 seconds\n",
      "Function Jacobi executed in 0.0 seconds\n",
      "Function Jacobi executed in 0.0 seconds\n",
      "Function Jacobi executed in 0.0 seconds\n",
      "Function Jacobi executed in 0.0 seconds\n",
      "Function Jacobi executed in 0.0 seconds\n",
      "Function Jacobi executed in 0.0 seconds\n",
      "Function Jacobi executed in 0.0 seconds\n",
      "Function Jacobi executed in 0.001028299331665039 seconds\n",
      "Function Jacobi executed in 0.0 seconds\n",
      "Function Jacobi executed in 0.0 seconds\n",
      "Function Jacobi executed in 0.0 seconds\n",
      "Function Jacobi executed in 0.0 seconds\n",
      "Function Jacobi executed in 0.0 seconds\n",
      "Function Jacobi executed in 0.0 seconds\n",
      "Function Jacobi executed in 0.0010266304016113281 seconds\n",
      "Function Jacobi executed in 0.0 seconds\n",
      "Function Jacobi executed in 0.0 seconds\n",
      "Function Jacobi executed in 0.0 seconds\n",
      "Function Jacobi executed in 0.0 seconds\n",
      "Function Jacobi executed in 0.0 seconds\n",
      "Function Jacobi executed in 0.0 seconds\n",
      "Function Jacobi executed in 0.0010275840759277344 seconds\n",
      "Function Jacobi executed in 5.507469177246094e-05 seconds\n",
      "Function Jacobi executed in 0.0 seconds\n",
      "Function Jacobi executed in 0.0 seconds\n",
      "Function Jacobi executed in 0.0 seconds\n",
      "Function Jacobi executed in 0.0 seconds\n",
      "Function Jacobi executed in 0.0 seconds\n",
      "Function Jacobi executed in 0.0 seconds\n",
      "Function Jacobi executed in 0.0010018348693847656 seconds\n",
      "Function Jacobi executed in 0.0 seconds\n",
      "Function Jacobi executed in 0.0 seconds\n",
      "Function Jacobi executed in 0.0 seconds\n",
      "Function Jacobi executed in 0.0 seconds\n",
      "Function Jacobi executed in 0.0 seconds\n",
      "Function Jacobi executed in 0.0 seconds\n"
     ]
    },
    {
     "data": {
      "image/png": "[encoded data removed]",
      "text/plain": [
       "<Figure size 640x480 with 1 Axes>"
      ]
     },
     "metadata": {},
     "output_type": "display_data"
    }
   ],
   "source": [
    "# question 2\n",
    "x0_0 = np.zeros(n)\n",
    "b_0 = np.ones(n)\n",
    "\n",
    "\n",
    "iter_list = []\n",
    "for k in range(1, 101):\n",
    "  A_k = A + np.eye(n) * 3 * k\n",
    "  iter_list.append(Jacobi(A_k, b_0, x0_0, 1e-5)[1])\n",
    "\n",
    "\n",
    "plt.plot(range(1, 101), iter_list)\n",
    "plt.show()"
   ]
  },
  {
   "cell_type": "markdown",
   "metadata": {
    "collapsed": false
   },
   "source": [
    "```{=typst}\n",
    "随着 $A$ 主对角线元素的增大，其占矩阵的信息量越大，而对角矩阵运算简便，因而迭代次数逐渐下降并稳定在 3 次左右。同时，$k$ 取特定时间时所用时间明显长于平均时间，即收敛速度与 $k$ 有关，但大多数情况下收敛较快。\n",
    "```"
   ]
  },
  {
   "cell_type": "markdown",
   "metadata": {},
   "source": [
    "```{=typst}\n",
    "#set text(\n",
    "  font: (\"Times New Roman\", \"LXGW WenKai\"),\n",
    "  size: 11pt,\n",
    ")\n",
    "\n",
    "附：Jacobi 方法和 GaussSeidel 方法源代码\n",
    "\n",
    "Jacobi 方法和 GaussSeidel 方法设置的最大迭代次数为 100000 次，达到此次数仍未收敛则抛出异常。其中 Jacobi 方法的源代码如下：\n",
    "```\n",
    "\n",
    "```python\n",
    "import numpy as np\n",
    "from utils.clock import clocked\n",
    "\n",
    "\n",
    "@clocked\n",
    "def Jacobi(_A, _x, _b, epsilon, max_iter=100000):\n",
    "  n = len(_b)\n",
    "  _x_ = np.copy(_x)\n",
    "  for _iter in range(max_iter):\n",
    "    x_new = np.zeros(n)\n",
    "    for i in range(n):\n",
    "      s1 = np.dot(_A[i, :i], _x_[:i])\n",
    "      s2 = np.dot(_A[i, i + 1:], _x_[i + 1:])\n",
    "      x_new[i] = (_b[i] - s1 - s2) / _A[i, i]\n",
    "    if np.linalg.norm(x_new - _x_) < epsilon:\n",
    "      return x_new, _iter\n",
    "    _x_ = np.copy(x_new)\n",
    "  raise ValueError('Jacobi method did not converge')\n",
    "```\n",
    "\n",
    "GaussSeidel 方法源代码如下：\n",
    "\n",
    "```python\n",
    "#! /usr/bin/env python3\n",
    "# -*- coding: utf-8 -*-\n",
    "\n",
    "import numpy as np\n",
    "from utils.clock import clocked\n",
    "\n",
    "\n",
    "@clocked\n",
    "def GaussSeidel(_A, _x, _b, epsilon, max_iter=100000):\n",
    "  n = len(_b)\n",
    "  _x_ = np.copy(_x)\n",
    "  for _iter in range(max_iter):\n",
    "    for i in range(n):\n",
    "      s1 = np.dot(_A[i, :i], _x_[:i])\n",
    "      s2 = np.dot(_A[i, i + 1:], _x_[i + 1:])\n",
    "      _x_[i] = (_b[i] - s1 - s2) / _A[i, i]\n",
    "    if np.linalg.norm(np.dot(_A, _x_) - _b) < epsilon:\n",
    "      return _x_, _iter\n",
    "  raise ValueError('Gauss-Seidel method did not converge')\n",
    "```\n",
    "\n",
    "`@clocked` 为计时装饰器，用于计时函数运行时间，其源码如下：\n",
    "\n",
    "```python\n",
    "#! /usr/bin/env python3\n",
    "# -*- coding: utf-8 -*-\n",
    "\n",
    "import time\n",
    "\n",
    "\n",
    "def clocked(func):\n",
    "  def clock(*args, **kwargs):\n",
    "    start = time.time()\n",
    "    result = func(*args, **kwargs)\n",
    "    end = time.time()\n",
    "    print(f'Function {func.__name__} executed in {end - start} seconds')\n",
    "    return result\n",
    "\n",
    "  return clock\n",
    "```"
   ]
  }
 ],
 "metadata": {
  "kernelspec": {
   "display_name": ".venv",
   "language": "python",
   "name": "python3"
  },
  "language_info": {
   "codemirror_mode": {
    "name": "ipython",
    "version": 3
   },
   "file_extension": ".py",
   "mimetype": "text/x-python",
   "name": "python",
   "nbconvert_exporter": "python",
   "pygments_lexer": "ipython3",
   "version": "3.11.6"
  }
 },
 "nbformat": 4,
 "nbformat_minor": 2
}
